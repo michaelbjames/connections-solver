{
 "cells": [
  {
   "cell_type": "code",
   "execution_count": 1,
   "metadata": {},
   "outputs": [],
   "source": [
    "import json\n",
    "import os\n",
    "import sys"
   ]
  },
  {
   "cell_type": "code",
   "execution_count": 7,
   "metadata": {},
   "outputs": [],
   "source": [
    "filename = \"answers5.json\"\n",
    "\n",
    "with open(filename, \"r\") as f:\n",
    "    data = json.load(f)"
   ]
  },
  {
   "cell_type": "code",
   "execution_count": 5,
   "metadata": {},
   "outputs": [],
   "source": [
    "from connections import Connection, ConnectionDay"
   ]
  },
  {
   "cell_type": "code",
   "execution_count": 9,
   "metadata": {},
   "outputs": [],
   "source": [
    "# Read 5 elements from data at a time\n",
    "subset = data[:]\n",
    "connection_days = []\n",
    "for i in range(0, len(subset), 5):\n",
    "    connections = []\n",
    "    date_str_and_iter = data[i]['text']\n",
    "    res = date_str_and_iter.split(\"#\")\n",
    "    if len(res) != 2:\n",
    "        print(f\"ERROR: {date_str_and_iter}\")\n",
    "        continue\n",
    "    date_str, iteration_str = res\n",
    "    date = date_str.strip()\n",
    "    iteration = int(iteration_str.strip())\n",
    "    for j in range(1, 5):\n",
    "        data_str = data[i+j]['text']\n",
    "        level = data_str[0]\n",
    "        if level not in \"🟡🔵🟢🟣\":\n",
    "            print(f\"ERROR[{i+j}]: {level} => {data_str}\")\n",
    "            continue\n",
    "        connection = data_str[1:]\n",
    "        conn_split = connection.split(\": \")\n",
    "        if len(conn_split) > 2:\n",
    "            print(f\"ERROR[{i+j}]: {conn_split}\")\n",
    "            continue\n",
    "        connection = conn_split[0].strip()\n",
    "        words = [x.strip() for x in conn_split[1].split(\",\")]\n",
    "        connections.append(Connection(level, connection, words))\n",
    "\n",
    "    day = ConnectionDay(date_str.strip(), iteration, connections)\n",
    "    connection_days.append(day)\n",
    "    # print(day)\n",
    "    # print()"
   ]
  },
  {
   "cell_type": "code",
   "execution_count": 10,
   "metadata": {},
   "outputs": [],
   "source": [
    "import dataclasses as dc\n",
    "# Write the connection_days to a new json file\n",
    "output_filename = \"connections-2024-05-21.json\"\n",
    "with open(output_filename, \"w\") as f:\n",
    "    json.dump([dc.asdict(x) for x in connection_days], f, indent=2)"
   ]
  }
 ],
 "metadata": {
  "kernelspec": {
   "display_name": "ml",
   "language": "python",
   "name": "python3"
  },
  "language_info": {
   "codemirror_mode": {
    "name": "ipython",
    "version": 3
   },
   "file_extension": ".py",
   "mimetype": "text/x-python",
   "name": "python",
   "nbconvert_exporter": "python",
   "pygments_lexer": "ipython3",
   "version": "3.11.6"
  }
 },
 "nbformat": 4,
 "nbformat_minor": 2
}
